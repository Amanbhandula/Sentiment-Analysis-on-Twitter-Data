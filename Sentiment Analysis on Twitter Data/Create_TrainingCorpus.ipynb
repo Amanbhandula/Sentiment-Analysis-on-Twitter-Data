{
 "cells": [
  {
   "cell_type": "code",
   "execution_count": 41,
   "metadata": {},
   "outputs": [],
   "source": [
    "from sklearn.preprocessing import LabelEncoder\n",
    "import re\n",
    "from string import punctuation\n",
    "from nltk.tokenize import word_tokenize\n",
    "from nltk.stem import PorterStemmer\n",
    "from nltk.corpus import stopwords\n",
    "from nltk.corpus import wordnet as wn"
   ]
  },
  {
   "cell_type": "code",
   "execution_count": 47,
   "metadata": {},
   "outputs": [],
   "source": [
    "def createTrainingCorpus(corpusFile):\n",
    "    import csv\n",
    "    corpus=[]\n",
    "    with open(corpusFile, 'rb') as csvfile:\n",
    "        lineReader = csv.reader(csvfile,delimiter=',',quotechar=\"\\\"\")\n",
    "        for row in lineReader:\n",
    "            corpus.append({\"text\":row[5],\"label\":int(row[0])})\n",
    "    \n",
    "    \n",
    "    trainingData=[]\n",
    "    for label in [0,4]:\n",
    "        i=1\n",
    "        for tweet in corpus:\n",
    "            if tweet[\"label\"]==label and i<=5000:\n",
    "                trainingData.append(tweet)\n",
    "                i+=1\n",
    "    return trainingData\n",
    "\n",
    "corpusFile=\"/Users/Josh/Desktop/Software Project/trainingCorpus/trainingData1600000.csv\"\n",
    "trainingData=createTrainingCorpus(corpusFile)"
   ]
  },
  {
   "cell_type": "code",
   "execution_count": 48,
   "metadata": {},
   "outputs": [],
   "source": [
    "\n",
    "\n",
    "class PreProcessTweets:\n",
    "    def __init__(self):\n",
    "        self._stopwords=set(stopwords.words('english')+list(punctuation)+['rt', \"'s\", 'i'])\n",
    "        \n",
    "    def processTweets(self, list_of_tweets):\n",
    "        \n",
    "        processedTweets=[]\n",
    "       \n",
    "        for tweet in list_of_tweets:\n",
    "            processedTweet={\"text\":self._processTweet(tweet[\"text\"]),\"label\":tweet[\"label\"]}\n",
    "            if len(processedTweet[\"text\"]) > 0:\n",
    "                processedTweets.append(processedTweet)  \n",
    "        return processedTweets\n",
    "    \n",
    "    def _processTweet(self, tweet):\n",
    "        \n",
    "        tweet=tweet.lower()\n",
    "        \n",
    "        tweet=re.sub('https?://[^\\s]+','',tweet)\n",
    "        \n",
    "        tweet=re.sub(r'@[^\\s]+','',tweet)\n",
    "        \n",
    "        tweet=re.sub(r'#([^\\s]+)',r'\\1',tweet)\n",
    "        \n",
    "        tweet=re.sub(\"[^a-z]\", \" \",tweet)\n",
    "        \n",
    "        tweet=word_tokenize(tweet)\n",
    "        \n",
    "        stemmer=PorterStemmer()\n",
    "        tweet=[stemmer.stem(word) for word in tweet]\n",
    "        stripper = lambda word: word.strip()\n",
    "        tweet = list(map(stripper, tweet))\n",
    "        tweet = filter(None, tweet)\n",
    "        \n",
    "        return [word for word in tweet if word not in self._stopwords]\n",
    "        "
   ]
  },
  {
   "cell_type": "code",
   "execution_count": 49,
   "metadata": {},
   "outputs": [],
   "source": [
    "\n",
    "tweetProcessor=PreProcessTweets()\n",
    "ppTrainingData=tweetProcessor.processTweets(trainingData)"
   ]
  },
  {
   "cell_type": "code",
   "execution_count": 50,
   "metadata": {},
   "outputs": [],
   "source": [
    "\n",
    "def storePPTrainingData(ppTrainingData,tweetDataFile):\n",
    "    import csv\n",
    "    with open(tweetDataFile,'wb') as csvfile:\n",
    "        linewriter=csv.writer(csvfile,delimiter=',',quotechar=\"\\\"\")\n",
    "        convertLabels={4:\"positive\",0:\"negative\"}\n",
    "        for tweet in ppTrainingData:\n",
    "            try: \n",
    "                linewriter.writerow([_convertList(tweet[\"text\"]), convertLabels[tweet[\"label\"]]])\n",
    "            except Exception,e:\n",
    "                print e\n",
    "                \n",
    "def _convertList(tweetList):\n",
    "    sentence=''\n",
    "    for word in tweetList:\n",
    "        sentence += word + ' '\n",
    "    return sentence\n",
    "                \n",
    "tweetDataFile=\"/Users/Josh/Desktop/Software Project/trainingCorpus/processedCorpus.csv\"\n",
    "storePPTrainingData(ppTrainingData,tweetDataFile)"
   ]
  }
 ],
 "metadata": {
  "kernelspec": {
   "display_name": "Python 3",
   "language": "python",
   "name": "python3"
  },
  "language_info": {
   "codemirror_mode": {
    "name": "ipython",
    "version": 3
   },
   "file_extension": ".py",
   "mimetype": "text/x-python",
   "name": "python",
   "nbconvert_exporter": "python",
   "pygments_lexer": "ipython3",
   "version": "3.6.4"
  }
 },
 "nbformat": 4,
 "nbformat_minor": 2
}
